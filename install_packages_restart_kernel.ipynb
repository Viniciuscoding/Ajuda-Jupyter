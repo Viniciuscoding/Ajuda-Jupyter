import os




# Check if the Kernel was not restarted
if not os.getenv("IS_TESTING"):
    # Restarting the kernel after pip installs
    import IPython

    restart = IPython.Application.instance()
    restart.kernel.do_shutdown(True)
